{
 "cells": [
  {
   "cell_type": "markdown",
   "metadata": {},
   "source": [
    "## Task 1"
   ]
  },
  {
   "cell_type": "markdown",
   "metadata": {},
   "source": [
    "##### 1. Write a function to compute 5/0 and use try/except to catch the exceptions "
   ]
  },
  {
   "cell_type": "code",
   "execution_count": 1,
   "metadata": {},
   "outputs": [
    {
     "name": "stdout",
     "output_type": "stream",
     "text": [
      "its not possible\n"
     ]
    }
   ],
   "source": [
    "def compute():\n",
    "    return 5/0\n",
    "try:\n",
    "    compute()\n",
    "except ZeroDivisionError as e:\n",
    "    print(\"its not possible\")\n",
    "except:\n",
    "    print(\"any other excepton\")\n",
    " "
   ]
  },
  {
   "cell_type": "markdown",
   "metadata": {},
   "source": [
    "##### 2. Implement a Python program to generate all sentences where subject is in [\"Americans\",\"Indians\"] and verb is in [\"Play\", \"watch\"] and the object is in [\"Baseball\",\"cricket\"] "
   ]
  },
  {
   "cell_type": "code",
   "execution_count": 2,
   "metadata": {},
   "outputs": [
    {
     "name": "stdout",
     "output_type": "stream",
     "text": [
      "Output:\n",
      "Americans play Baseball.\n",
      "Americans play Cricket.\n",
      "Americans watch Baseball.\n",
      "Americans watch Cricket.\n",
      "Indians play Baseball.\n",
      "Indians play Cricket.\n",
      "Indians watch Baseball.\n",
      "Indians watch Cricket.\n"
     ]
    }
   ],
   "source": [
    "subject=[\"Americans\",\"Indians\"]\n",
    "verb=[\"play\",\"watch\"]\n",
    "objects=[\"Baseball\",\"Cricket\"]\n",
    "\n",
    "list = [(Sub+' '+vrb+' '+Objct+\".\") for Sub in subject for vrb in verb for Objct in objects]\n",
    "print(\"Output:\")\n",
    "\n",
    "for i in list:    \n",
    "    print(i)"
   ]
  },
  {
   "cell_type": "markdown",
   "metadata": {},
   "source": [
    "## Task 2"
   ]
  },
  {
   "cell_type": "markdown",
   "metadata": {},
   "source": [
    "##### 1. Write a function so that the columns of the output matrix are powers of the input vector. The order of the powers is determined by the increasing boolean argument. Specifically, when increasing is False, the i-th output column is the input vector raised element-wise to the power of N - i - 1. Such a matrix with a geometric progression in each row is named for Alexandre-Theophile Vandermonde."
   ]
  },
  {
   "cell_type": "code",
   "execution_count": 3,
   "metadata": {},
   "outputs": [],
   "source": [
    "def gen_matrix(ipvector, n, increasing=False):\n",
    "    if not increasing:\n",
    "        output_matix = np.array([a**(n-1-i) for a in ipvector for i in range(n)]).reshape(ipvector.size,n)\n",
    "    elif increasing:\n",
    "        output_matix = np.array([a**i for a in ipvector for i in range(n)]).reshape(ipvector.size,n)\n",
    "    \n",
    "    return output_matix"
   ]
  },
  {
   "cell_type": "code",
   "execution_count": 6,
   "metadata": {},
   "outputs": [
    {
     "name": "stdout",
     "output_type": "stream",
     "text": [
      "The input array is: [1 2 3 4 5 6 7] \n",
      "\n",
      "Number of columns in output matrix should be: 6 \n",
      "\n",
      "Vander matrix of the input array in decreasing order of powers: \n",
      "\n",
      " [[    1     1     1     1     1     1]\n",
      " [   32    16     8     4     2     1]\n",
      " [  243    81    27     9     3     1]\n",
      " [ 1024   256    64    16     4     1]\n",
      " [ 3125   625   125    25     5     1]\n",
      " [ 7776  1296   216    36     6     1]\n",
      " [16807  2401   343    49     7     1]] \n",
      "\n",
      "Vander matrix of the input array in increasing order of powers: \n",
      "\n",
      " [[    1     1     1     1     1     1]\n",
      " [    1     2     4     8    16    32]\n",
      " [    1     3     9    27    81   243]\n",
      " [    1     4    16    64   256  1024]\n",
      " [    1     5    25   125   625  3125]\n",
      " [    1     6    36   216  1296  7776]\n",
      " [    1     7    49   343  2401 16807]] \n",
      "\n"
     ]
    }
   ],
   "source": [
    "import numpy as np\n",
    "input_vector = np.array([1,2,3,4,5,6,7])\n",
    "no_col_output_matix = 6\n",
    "output_matix_dec_order = gen_matrix(input_vector,no_col_output_matix,False)\n",
    "output_matix_inc_order = gen_matrix(input_vector,no_col_output_matix,True)\n",
    "\n",
    "print(\"The input array is:\",input_vector,\"\\n\")\n",
    "print(\"Number of columns in output matrix should be:\",no_col_output_matix,\"\\n\")\n",
    "print(\"Vander matrix of the input array in decreasing order of powers: \\n\\n\",output_matix_dec_order,\"\\n\")\n",
    "print(\"Vander matrix of the input array in increasing order of powers: \\n\\n\",output_matix_inc_order,\"\\n\")\n"
   ]
  },
  {
   "cell_type": "code",
   "execution_count": null,
   "metadata": {},
   "outputs": [],
   "source": []
  }
 ],
 "metadata": {
  "kernelspec": {
   "display_name": "Python 3",
   "language": "python",
   "name": "python3"
  },
  "language_info": {
   "codemirror_mode": {
    "name": "ipython",
    "version": 3
   },
   "file_extension": ".py",
   "mimetype": "text/x-python",
   "name": "python",
   "nbconvert_exporter": "python",
   "pygments_lexer": "ipython3",
   "version": "3.6.4"
  }
 },
 "nbformat": 4,
 "nbformat_minor": 2
}
